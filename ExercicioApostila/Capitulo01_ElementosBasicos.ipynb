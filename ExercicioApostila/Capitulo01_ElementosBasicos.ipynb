{
 "cells": [
  {
   "cell_type": "markdown",
   "id": "877dc021",
   "metadata": {},
   "source": [
    "# Exercícios Capitulo 01 - Elementos básicos da linguagem Python\n",
    "\n",
    "<p style=\"text-align:right;\">Aluno: Marcos Alves Oliveira</p>"
   ]
  },
  {
   "cell_type": "markdown",
   "id": "79bbc2df",
   "metadata": {},
   "source": [
    "Exercício 01\n",
    "\n"
   ]
  },
  {
   "cell_type": "code",
   "execution_count": 6,
   "id": "c0a794df",
   "metadata": {},
   "outputs": [
    {
     "name": "stdout",
     "output_type": "stream",
     "text": [
      "Calcula a área da circuferência\n",
      "A área da circunferência é:  1256.636\n"
     ]
    }
   ],
   "source": [
    "#Programa: Calcular a área de um circunferência\n",
    "#ler o raio\n",
    "print(\"Calcula a área da circuferência\")\n",
    "raio = float(input(\"Informe o raio da circunferência: \")) #ler o raio da circunferência\n",
    "pi = 3.14159\n",
    "area = pi * (raio**2)\n",
    "print(\"A área da circunferência é: \", area)"
   ]
  },
  {
   "cell_type": "markdown",
   "id": "f1fccb20",
   "metadata": {},
   "source": [
    "Exercício 02"
   ]
  },
  {
   "cell_type": "code",
   "execution_count": 8,
   "id": "b634ae95",
   "metadata": {},
   "outputs": [
    {
     "name": "stdout",
     "output_type": "stream",
     "text": [
      "\n",
      "MEDIA = 8.36364\n"
     ]
    }
   ],
   "source": [
    "# Programa: Média ponderada de duas notas\n",
    "# Ler duas notas (A e B), calcular e exibir a média ponderada\n",
    "# com pesos 3.5 e 7.5, respectivamente.\n",
    "\n",
    "# Leitura das notas\n",
    "A = float(input(\"Digite a nota A (0 a 10): \"))\n",
    "B = float(input(\"Digite a nota B (0 a 10): \"))\n",
    "\n",
    "# Cálculo da média ponderada\n",
    "# Fórmula: MEDIA = (A * 3.5 + B * 7.5) / 11\n",
    "MEDIA = (A * 3.5 + B * 7.5) / 11\n",
    "\n",
    "# Exibição do resultado formatado com 5 casas decimais\n",
    "print(f\"\\nMEDIA = {MEDIA:.5f}\")\n"
   ]
  },
  {
   "cell_type": "markdown",
   "id": "679c1134",
   "metadata": {},
   "source": [
    "Exercício 03"
   ]
  },
  {
   "cell_type": "code",
   "execution_count": 3,
   "id": "9ade5e6d",
   "metadata": {},
   "outputs": [
    {
     "name": "stdout",
     "output_type": "stream",
     "text": [
      "A média ponderada do aluno é:  73.6\n"
     ]
    }
   ],
   "source": [
    "notaA = float(input(\"Informe a nota A do aluno com uma casa decimal: \"))\n",
    "notaB = float(input(\"Informe a nota B do aluno com uma casa decimal: \"))\n",
    "notaC = float(input(\"Informe a nota C do aluno com uma casa decimal: \"))\n",
    "pesoA = 2\n",
    "pesoB = 3\n",
    "pesoC = 5\n",
    "mediaPonderada = ((notaA * pesoA) + (notaB * pesoB) + (notaC * pesoC)) / (pesoA + pesoB + pesoC)\n",
    "mediaPonderada = round(mediaPonderada, 1)\n",
    "print(\"A média ponderada do aluno é: \", mediaPonderada)"
   ]
  },
  {
   "cell_type": "markdown",
   "id": "22d04927",
   "metadata": {},
   "source": [
    "Exercício 04"
   ]
  },
  {
   "cell_type": "code",
   "execution_count": null,
   "id": "6580c0a9",
   "metadata": {},
   "outputs": [
    {
     "name": "stdout",
     "output_type": "stream",
     "text": [
      "Centenas: 1\n",
      "Dezenas: 0\n",
      "Unidades: 0\n"
     ]
    }
   ],
   "source": [
    "# Programa: Separar dígitos de um número inteiro\n",
    "# Ler um número entre 100 e 999 e exibir suas centenas, dezenas e unidades\n",
    "\n",
    "# Leitura do número inteiro\n",
    "n = int(input(\"Digite um número inteiro entre 100 e 999: \"))\n",
    "\n",
    "# Verifica se o número está no intervalo correto\n",
    "if n < 100 or n > 999: #poderia utilizar n <= 100 or n >= 100\n",
    "    print(\"Número inválido! Deve estar entre 100 e 999.\")\n",
    "else:\n",
    "    # Calcula os dígitos usando divisão inteira e resto\n",
    "    centenas = n // 100              # parte inteira da divisão por 100\n",
    "    dezenas = (n % 100) // 10        # pega o resto da divisão por 100 e divide por 10\n",
    "    unidades = n % 10                # resto da divisão por 10\n",
    "    \n",
    "    # Exibe os resultados\n",
    "    print(f\"Centenas: {centenas}\")\n",
    "    print(f\"Dezenas: {dezenas}\")\n",
    "    print(f\"Unidades: {unidades}\")\n"
   ]
  },
  {
   "cell_type": "markdown",
   "id": "68583603",
   "metadata": {},
   "source": [
    "Exercicio 05"
   ]
  },
  {
   "cell_type": "code",
   "execution_count": 3,
   "id": "cb9383c0",
   "metadata": {},
   "outputs": [
    {
     "name": "stdout",
     "output_type": "stream",
     "text": [
      "\n",
      "Número do funcionário: 50\n",
      "Salário: R$ 15000.00\n"
     ]
    }
   ],
   "source": [
    "# Programa: Cálculo do salário de um funcionário\n",
    "# Ler número do funcionário, horas trabalhadas e valor por hora,\n",
    "# calcular e exibir o salário com duas casas decimais.\n",
    "\n",
    "# Leitura dos dados de entrada\n",
    "numero_funcionario = int(input(\"Digite o número do funcionário: \"))\n",
    "horas_trabalhadas = float(input(\"Digite o número de horas trabalhadas: \"))\n",
    "valor_por_hora = float(input(\"Digite o valor recebido por hora: \"))\n",
    "\n",
    "# Cálculo do salário\n",
    "salario = horas_trabalhadas * valor_por_hora\n",
    "\n",
    "# Exibição dos resultados com formatação de duas casas decimais\n",
    "print(f\"\\nNúmero do funcionário: {numero_funcionario}\")\n",
    "print(f\"Salário: R$ {salario:.2f}\")\n"
   ]
  },
  {
   "cell_type": "markdown",
   "id": "0394e6d0",
   "metadata": {
    "vscode": {
     "languageId": "plaintext"
    }
   },
   "source": [
    "Exercicio 06"
   ]
  },
  {
   "cell_type": "code",
   "execution_count": 4,
   "id": "e2eaf52f",
   "metadata": {},
   "outputs": [
    {
     "name": "stdout",
     "output_type": "stream",
     "text": [
      "\n",
      "DIFERENCA = -50\n"
     ]
    }
   ],
   "source": [
    "# Programa: Diferença entre produtos\n",
    "# Ler quatro valores inteiros (A, B, C, D)\n",
    "# calcular a diferença entre o produto de A e B e o produto de C e D\n",
    "\n",
    "# Leitura dos valores\n",
    "A = int(input(\"Digite o valor de A: \"))\n",
    "B = int(input(\"Digite o valor de B: \"))\n",
    "C = int(input(\"Digite o valor de C: \"))\n",
    "D = int(input(\"Digite o valor de D: \"))\n",
    "\n",
    "# Cálculo da diferença conforme a fórmula\n",
    "DIFERENCA = (A * B) - (C * D)\n",
    "\n",
    "# Exibição do resultado\n",
    "print(f\"\\nDIFERENCA = {DIFERENCA}\")"
   ]
  }
 ],
 "metadata": {
  "kernelspec": {
   "display_name": "base",
   "language": "python",
   "name": "python3"
  },
  "language_info": {
   "codemirror_mode": {
    "name": "ipython",
    "version": 3
   },
   "file_extension": ".py",
   "mimetype": "text/x-python",
   "name": "python",
   "nbconvert_exporter": "python",
   "pygments_lexer": "ipython3",
   "version": "3.13.5"
  }
 },
 "nbformat": 4,
 "nbformat_minor": 5
}
