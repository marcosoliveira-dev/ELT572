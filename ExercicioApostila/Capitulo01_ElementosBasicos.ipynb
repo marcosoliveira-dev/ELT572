{
 "cells": [
  {
   "cell_type": "markdown",
   "id": "877dc021",
   "metadata": {},
   "source": [
    "# Exercícios Capitulo 01 - Elementos básicos da linguagem Python\n",
    "\n",
    "<p style=\"text-align:right;\">Aluno: Marcos Alves Oliveira</p>"
   ]
  }
 ],
 "metadata": {
  "language_info": {
   "name": "python"
  }
 },
 "nbformat": 4,
 "nbformat_minor": 5
}
