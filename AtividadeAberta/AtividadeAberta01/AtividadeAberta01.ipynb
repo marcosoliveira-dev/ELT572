{
 "cells": [
  {
   "cell_type": "markdown",
   "id": "5b2b843d-427f-4854-b4d2-e9db2477919e",
   "metadata": {},
   "source": [
    "# Atividade Aberta 01\n",
    "\n",
    "<p style=\"text-align:right;\">Aluno: Marcos Alves Oliveira</p>"
   ]
  },
  {
   "cell_type": "markdown",
   "id": "fb52c17d-ce7a-4328-92b3-e051a7b65764",
   "metadata": {},
   "source": [
    "## 1) Em python, qual a saída esperada para o seguinte código\n"
   ]
  },
  {
   "cell_type": "code",
   "execution_count": 4,
   "id": "522ec1f3-3814-4c6b-93de-579db438f7d9",
   "metadata": {},
   "outputs": [
    {
     "name": "stdout",
     "output_type": "stream",
     "text": [
      "b - a =  5\n",
      "a + c =  18\n",
      "b - c =  13\n",
      "a > b: False\n",
      "d < b: False\n",
      "d == e: False\n",
      "a != a False\n",
      "a >= d False\n",
      "d <= e False\n"
     ]
    }
   ],
   "source": [
    "a = 13\n",
    "b = 18\n",
    "c = b-a #5\n",
    "d = a+c #18\n",
    "e = b-c #13\n",
    "\n",
    "print(\"b - a = \", c)\n",
    "print(\"a + c = \", d)\n",
    "print(\"b - c = \", e)\n",
    "print(\"a > b:\", a > b)\n",
    "print(\"d < b:\", d < b)\n",
    "print(\"d == e:\", d==e)\n",
    "print(\"a != a\", a!=a)\n",
    "print(\"a >= d\", a>=d)\n",
    "print(\"d <= e\", d <= e)"
   ]
  },
  {
   "cell_type": "markdown",
   "id": "22f48954-95e4-43ef-923a-1943003ae797",
   "metadata": {},
   "source": [
    "## 2) Em python, qual a saída esperada para o seguinte código:"
   ]
  },
  {
   "cell_type": "code",
   "execution_count": 3,
   "id": "3fc326ec-719d-41e7-8a9e-7113bb064ca0",
   "metadata": {},
   "outputs": [
    {
     "name": "stdout",
     "output_type": "stream",
     "text": [
      "b * a =  10\n",
      "a * a =  25\n",
      "b * b =  4\n",
      "d > e: True\n",
      "d < e: False\n",
      "d == (a * a): True\n",
      "(d * b) != (e * a): True\n",
      "a >= c: False\n",
      "c <= e: False\n"
     ]
    }
   ],
   "source": [
    "a = 5\n",
    "b = 2\n",
    "c = b * a #10\n",
    "d = a * a #25\n",
    "e = b * b #4\n",
    "\n",
    "print(\"b * a = \", c)\n",
    "print(\"a * a = \", d)\n",
    "print(\"b * b = \", e)\n",
    "print(\"d > e:\", d > e)\n",
    "print(\"d < e:\", d < e)\n",
    "print(\"d == (a * a):\", d == (a * a))\n",
    "print(\"(d * b) != (e * a):\", (d * b) != (e * a))\n",
    "print(\"a >= c:\", a >= c)\n",
    "print(\"c <= e:\", c <= e)\n",
    "\n"
   ]
  },
  {
   "cell_type": "markdown",
   "id": "80185d68-4dd1-48f4-8821-baa878d72993",
   "metadata": {},
   "source": [
    "## 3) Para o código seguinte, qual a saída esperada:"
   ]
  },
  {
   "cell_type": "code",
   "execution_count": null,
   "id": "dd01d7c4-7805-4197-9c00-0d7b3ce9907a",
   "metadata": {},
   "outputs": [
    {
     "name": "stdout",
     "output_type": "stream",
     "text": [
      "64\n",
      "32\n",
      "16\n",
      "8\n",
      "4\n"
     ]
    }
   ],
   "source": [
    "x = 64\n",
    "\n",
    "while x > 2:\n",
    "    print(x)\n",
    "    x = int(x/2)"
   ]
  },
  {
   "cell_type": "markdown",
   "id": "92855fa1-7272-47b2-9c57-bdf036f75867",
   "metadata": {},
   "source": [
    "## 4) Para o seguinte código:"
   ]
  },
  {
   "cell_type": "code",
   "execution_count": null,
   "id": "7c4b910d-d9ab-43bc-8962-04566e964529",
   "metadata": {},
   "outputs": [],
   "source": [
    "nota = int(input(\"digite uma nota entre 0 e 100: \"))\n",
    "\n",
    "while nota > 100 or nota < 0:\n",
    "    print(\"nota invalida!\")\n",
    "    nota = int(input(\"digite uma nota entre 0 e 100: \"))\n",
    "\n",
    "    if nota < 60:\n",
    "        print(\"aluno reprovado\")\n",
    "    else:\n",
    "        print(\"aluno aprovado\")"
   ]
  },
  {
   "cell_type": "markdown",
   "id": "d5915ae7-af03-4b35-b13b-216e8b370702",
   "metadata": {},
   "source": [
    "<p style=\"color:red\">Outra Saída possivel:</p>"
   ]
  },
  {
   "cell_type": "code",
   "execution_count": 2,
   "id": "eb0c5dda",
   "metadata": {},
   "outputs": [
    {
     "name": "stdout",
     "output_type": "stream",
     "text": [
      "nota invalida!\n",
      "aluno reprovado\n"
     ]
    }
   ],
   "source": [
    "nota = int(input(\"digite uma nota entre 0 e 100: \"))\n",
    "\n",
    "while nota > 100 or nota < 0:\n",
    "    print(\"nota invalida!\")\n",
    "    nota = int(input(\"digite uma nota entre 0 e 100: \"))\n",
    "\n",
    "    if nota < 60:\n",
    "        print(\"aluno reprovado\")\n",
    "    else:\n",
    "        print(\"aluno aprovado\")"
   ]
  }
 ],
 "metadata": {
  "kernelspec": {
   "display_name": "base",
   "language": "python",
   "name": "python3"
  },
  "language_info": {
   "codemirror_mode": {
    "name": "ipython",
    "version": 3
   },
   "file_extension": ".py",
   "mimetype": "text/x-python",
   "name": "python",
   "nbconvert_exporter": "python",
   "pygments_lexer": "ipython3",
   "version": "3.13.5"
  }
 },
 "nbformat": 4,
 "nbformat_minor": 5
}
