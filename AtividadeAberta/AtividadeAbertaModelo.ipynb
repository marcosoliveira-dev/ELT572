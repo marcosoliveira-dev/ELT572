{
 "cells": [
  {
   "cell_type": "markdown",
   "id": "6cd130f8",
   "metadata": {},
   "source": [
    "# Atividade Aberta 00\n",
    "\n",
    "<p style=\"text-align:right;\">Aluno: Marcos Alves Oliveira</p>"
   ]
  },
  {
   "cell_type": "markdown",
   "id": "bbc5abe5",
   "metadata": {},
   "source": [
    "## Exercicio 01\n"
   ]
  },
  {
   "cell_type": "code",
   "execution_count": 1,
   "id": "3d61e5da",
   "metadata": {},
   "outputs": [
    {
     "name": "stdout",
     "output_type": "stream",
     "text": [
      "Olá mundo\n"
     ]
    }
   ],
   "source": [
    "print('Olá mundo')"
   ]
  },
  {
   "cell_type": "markdown",
   "id": "aa1b0ad0",
   "metadata": {},
   "source": [
    "## Exercicio 02\n"
   ]
  },
  {
   "cell_type": "code",
   "execution_count": null,
   "id": "248a1d8f",
   "metadata": {},
   "outputs": [],
   "source": []
  },
  {
   "cell_type": "code",
   "execution_count": null,
   "id": "a8508336",
   "metadata": {},
   "outputs": [],
   "source": []
  },
  {
   "cell_type": "markdown",
   "id": "00dfea95",
   "metadata": {},
   "source": []
  },
  {
   "cell_type": "code",
   "execution_count": null,
   "id": "bb8c5cbe",
   "metadata": {},
   "outputs": [],
   "source": []
  },
  {
   "cell_type": "markdown",
   "id": "796b7153",
   "metadata": {},
   "source": []
  },
  {
   "cell_type": "code",
   "execution_count": null,
   "id": "1f920525",
   "metadata": {},
   "outputs": [],
   "source": []
  },
  {
   "cell_type": "markdown",
   "id": "b219b652",
   "metadata": {},
   "source": []
  }
 ],
 "metadata": {
  "kernelspec": {
   "display_name": "Python 3",
   "language": "python",
   "name": "python3"
  },
  "language_info": {
   "codemirror_mode": {
    "name": "ipython",
    "version": 3
   },
   "file_extension": ".py",
   "mimetype": "text/x-python",
   "name": "python",
   "nbconvert_exporter": "python",
   "pygments_lexer": "ipython3",
   "version": "3.13.0"
  }
 },
 "nbformat": 4,
 "nbformat_minor": 5
}
