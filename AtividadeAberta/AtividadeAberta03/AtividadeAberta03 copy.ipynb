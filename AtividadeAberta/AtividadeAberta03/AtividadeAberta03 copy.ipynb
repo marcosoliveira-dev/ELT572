{
 "cells": [
  {
   "cell_type": "markdown",
   "id": "6cd130f8",
   "metadata": {},
   "source": [
    "# Atividade Aberta 03\n",
    "\n",
    "<p style=\"text-align:right;\">Aluno: Marcos Alves Oliveira</p>"
   ]
  },
  {
   "cell_type": "markdown",
   "id": "bbc5abe5",
   "metadata": {},
   "source": [
    "## Exercicio 01\n"
   ]
  },
  {
   "cell_type": "code",
   "execution_count": null,
   "id": "3d61e5da",
   "metadata": {
    "vscode": {
     "languageId": "plaintext"
    }
   },
   "outputs": [],
   "source": []
  }
 ],
 "metadata": {
  "language_info": {
   "name": "python"
  }
 },
 "nbformat": 4,
 "nbformat_minor": 5
}
