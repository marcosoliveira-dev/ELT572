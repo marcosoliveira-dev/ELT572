{
 "cells": [
  {
   "cell_type": "markdown",
   "id": "126adaca-4f49-4097-a7e4-f78aea36e5b5",
   "metadata": {},
   "source": [
    "# Atividade Aberta 02\n",
    "\n",
    "<p style=\"text-align:right;\">Aluno: Marcos Alves Oliveira</p>"
   ]
  },
  {
   "cell_type": "markdown",
   "id": "9818d444-0be4-4f70-81d2-cc60e09814ab",
   "metadata": {},
   "source": [
    "## Exercicio 01\n",
    "Utilizando vetores e comando de repetição, crie um código que receba as notas de 5\n",
    "atividades, que será informada pelo usuário. Em seguida, faça a média das notas e\n",
    "imprima na tela a média e “Aluno aprovado!” caso a média seja superior ou igual a\n",
    "60,0 e “Aluno reprovado” caso a média seja inferior a 60,0."
   ]
  },
  {
   "cell_type": "code",
   "execution_count": 1,
   "id": "3c3c006d-2058-42f9-8465-073abea75b67",
   "metadata": {},
   "outputs": [
    {
     "name": "stdout",
     "output_type": "stream",
     "text": [
      "\n",
      "Média do aluno: 64.0\n",
      "Aluno aprovado!\n"
     ]
    }
   ],
   "source": [
    "# Objetivo: Ler 5 notas informadas pelo usuário, calcular a média\n",
    "# e exibir se o aluno está aprovado ou reprovado\n",
    "\n",
    "# Criamos uma lista vazia (vetor) para armazenar as notas\n",
    "notas = []\n",
    "\n",
    "# Laço de repetição para ler 5 notas\n",
    "for i in range(5):\n",
    "    # input() lê o valor digitado pelo usuário\n",
    "    # float() converte o valor lido para número decimal\n",
    "    nota = float(input(f\"Digite a nota da atividade {i+1}: \"))\n",
    "    \n",
    "    # Adiciona a nota ao vetor\n",
    "    notas.append(nota)\n",
    "\n",
    "# Calcula a média das notas\n",
    "media = sum(notas) / len(notas)\n",
    "\n",
    "# Exibe a média formatada com uma casa decimal\n",
    "print(f\"\\nMédia do aluno: {media:.1f}\")\n",
    "\n",
    "# Estrutura condicional para verificar a situação do aluno\n",
    "if media >= 60.0:\n",
    "    print(\"Aluno aprovado!\")\n",
    "else:\n",
    "    print(\"Aluno reprovado.\")\n"
   ]
  },
  {
   "cell_type": "markdown",
   "id": "b7ecabb5-a58a-4a81-aefe-e4ec5e11cbba",
   "metadata": {},
   "source": [
    "## Exercicio 02\n",
    "Crie um programa de repetição que receba uma matriz de tamanho 5x5 e imprima a\n",
    "soma de cada linha.\n"
   ]
  },
  {
   "cell_type": "code",
   "execution_count": 2,
   "id": "c24b2665-9c8e-40b3-a103-0178c079e6b7",
   "metadata": {},
   "outputs": [
    {
     "name": "stdout",
     "output_type": "stream",
     "text": [
      "\n",
      "Digite os 5 elementos da linha 1:\n",
      "\n",
      "Digite os 5 elementos da linha 2:\n",
      "\n",
      "Digite os 5 elementos da linha 3:\n",
      "\n",
      "Digite os 5 elementos da linha 4:\n",
      "\n",
      "Digite os 5 elementos da linha 5:\n",
      "\n",
      "Soma de cada linha:\n",
      "Linha 1: 31.0\n",
      "Linha 2: 22.0\n",
      "Linha 3: 28.0\n",
      "Linha 4: 17.0\n",
      "Linha 5: 36.0\n"
     ]
    }
   ],
   "source": [
    "# Objetivo: Ler uma matriz 5x5 informada pelo usuário\n",
    "# e imprimir a soma de cada linha\n",
    "\n",
    "# Criamos uma lista (vetor) vazia para armazenar as linhas da matriz\n",
    "matriz = []\n",
    "\n",
    "# Loop para ler as 5 linhas da matriz\n",
    "for i in range(5):\n",
    "    # Cria uma nova linha vazia\n",
    "    linha = []\n",
    "    print(f\"\\nDigite os 5 elementos da linha {i+1}:\")\n",
    "    \n",
    "    # Loop interno para ler os 5 elementos da linha\n",
    "    for j in range(5):\n",
    "        elemento = float(input(f\"Elemento [{i+1}][{j+1}]: \"))\n",
    "        linha.append(elemento)  # adiciona o elemento na linha\n",
    "    \n",
    "    # Adiciona a linha completa na matriz\n",
    "    matriz.append(linha)\n",
    "\n",
    "# Impressão da soma de cada linha\n",
    "print(\"\\nSoma de cada linha:\")\n",
    "for i in range(5):\n",
    "    soma_linha = sum(matriz[i])  # soma os elementos da linha i\n",
    "    print(f\"Linha {i+1}: {soma_linha}\")\n"
   ]
  },
  {
   "cell_type": "markdown",
   "id": "322e2ab2-58a7-4b15-864d-2102912b7fe3",
   "metadata": {},
   "source": [
    "## Exercicio 03\n",
    "\n",
    "Crie uma função que receba dois inteiros ent1 e ent2. Essa função deve imprimir todos os textos quando a condição for atendida:\n",
    "\n",
    "- \"ent1 - ent2 é negativo\", condição: caso ent1 menos ent2 seja menor que zero;\n",
    "- \"ent1 * ent2 é negativo\", condição: caso ent1 multiplicado por ent2 seja menor que zero;\n",
    "- \"ent1 + ent2 é negativo\", condição: caso ent1 somado a ent2 seja menor que zero;"
   ]
  },
  {
   "cell_type": "code",
   "execution_count": 4,
   "id": "ad361a8d-a1a7-4817-b19a-da3fd60f8a25",
   "metadata": {},
   "outputs": [],
   "source": [
    "# Objetivo: Criar uma função que receba dois inteiros e verifica quais operações resultam em valores negativos\n",
    "\n",
    "# Definição da função\n",
    "def verifica_negativos(ent1, ent2):\n",
    "    \"\"\"Imprime mensagens caso o resultado das operações seja negativo.\"\"\"\n",
    "    \n",
    "    # Verifica se a subtração é negativa\n",
    "    if ent1 - ent2 < 0:\n",
    "        print(\"ent1 - ent2 é negativo\")\n",
    "    \n",
    "    # Verifica se a multiplicação é negativa\n",
    "    if ent1 * ent2 < 0:\n",
    "        print(\"ent1 * ent2 é negativo\")\n",
    "    \n",
    "    # Verifica se a soma é negativa\n",
    "    if ent1 + ent2 < 0:\n",
    "        print(\"ent1 + ent2 é negativo\")\n",
    "\n",
    "\n",
    "# Leitura dos valores inteiros\n",
    "a = int(input(\"Digite o primeiro número inteiro (ent1): \"))\n",
    "b = int(input(\"Digite o segundo número inteiro (ent2): \"))\n",
    "\n",
    "# Chamada da função\n",
    "verifica_negativos(a, b)\n"
   ]
  },
  {
   "cell_type": "markdown",
   "id": "2f0f0262-14cd-4115-9bb6-9329cf273c3e",
   "metadata": {},
   "source": [
    "## Exercicio 04\n",
    "Crie uma função que receba um caractere, uma string e o tamanho da string, essa\n",
    "função deve substituir os caracteres pares da string pelo caractere informado como\n",
    "parâmetro de entrada e retornar a nova string gerada."
   ]
  },
  {
   "cell_type": "code",
   "execution_count": 5,
   "id": "786d24c0-6e5b-438e-8f6a-65988bcdcbff",
   "metadata": {},
   "outputs": [
    {
     "name": "stdout",
     "output_type": "stream",
     "text": [
      "Nova string gerada: @a@c@s\n"
     ]
    }
   ],
   "source": [
    "# Programa: Substituição de caracteres pares em uma string\n",
    "# Objetivo: Criar uma função que substitua os caracteres em posições pares\n",
    "# pelo caractere informado pelo usuário.\n",
    "\n",
    "# Definição da função\n",
    "def substitui_pares(caractere, texto, tamanho):\n",
    "    \"\"\"\n",
    "    Substitui os caracteres de índice par na string pelo caractere informado.\n",
    "    Retorna a nova string gerada.\n",
    "    \"\"\"\n",
    "    nova_string = \"\"  # inicializa string vazia\n",
    "    \n",
    "    # Percorre a string até o tamanho informado\n",
    "    for i in range(tamanho):\n",
    "        if i % 2 == 0:  # se o índice for par\n",
    "            nova_string += caractere  # substitui pelo caractere\n",
    "        else:\n",
    "            nova_string += texto[i]  # mantém o caractere original\n",
    "    \n",
    "    return nova_string  # retorna a string modificada\n",
    "\n",
    "\n",
    "\n",
    "# Entrada \n",
    "caractere = input(\"Informe o caractere de substituição: \")\n",
    "texto = input(\"Digite a string original: \")\n",
    "tamanho = len(texto)  # obtém o tamanho da string automaticamente\n",
    "\n",
    "# Chamada da função\n",
    "resultado = substitui_pares(caractere, texto, tamanho)\n",
    "\n",
    "# Exibe o resultado\n",
    "print(\"Nova string gerada:\", resultado)\n"
   ]
  }
 ],
 "metadata": {
  "kernelspec": {
   "display_name": "Python 3",
   "language": "python",
   "name": "python3"
  },
  "language_info": {
   "codemirror_mode": {
    "name": "ipython",
    "version": 3
   },
   "file_extension": ".py",
   "mimetype": "text/x-python",
   "name": "python",
   "nbconvert_exporter": "python",
   "pygments_lexer": "ipython3",
   "version": "3.13.0"
  }
 },
 "nbformat": 4,
 "nbformat_minor": 5
}
